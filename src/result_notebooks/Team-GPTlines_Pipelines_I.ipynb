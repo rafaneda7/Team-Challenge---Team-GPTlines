{
 "cells": [
  {
   "cell_type": "code",
   "execution_count": 1,
   "metadata": {},
   "outputs": [],
   "source": [
    "# Data manipulation\n",
    "import numpy as np\n",
    "import pandas as pd\n",
    "import matplotlib.pyplot as plt\n",
    "import seaborn as sns\n",
    "\n",
    "# Models\n",
    "from sklearn.linear_model import LogisticRegression\n",
    "from sklearn.ensemble import RandomForestClassifier\n",
    "from xgboost import XGBClassifier\n",
    "import pickle\n",
    "import joblib\n",
    "\n",
    "# Metrics\n",
    "from sklearn.metrics import (classification_report, confusion_matrix, \n",
    "                             ConfusionMatrixDisplay, balanced_accuracy_score, accuracy_score, make_scorer)\n",
    "from sklearn.model_selection import GridSearchCV, StratifiedKFold, cross_val_score, train_test_split\n",
    "from sklearn.preprocessing import StandardScaler, OneHotEncoder\n",
    "from sklearn.pipeline import Pipeline\n",
    "from imblearn.over_sampling import SMOTE\n",
    "from sklearn.impute import SimpleImputer\n",
    "from sklearn.compose import ColumnTransformer\n",
    "\n",
    "# Pipelines\n",
    "from sklearn.pipeline import Pipeline\n",
    "\n",
    "# Warnings\n",
    "import warnings\n",
    "warnings.filterwarnings('ignore')"
   ]
  },
  {
   "cell_type": "markdown",
   "metadata": {},
   "source": [
    "# Descripción de las Columnas del Dataset\n",
    "\n",
    "| **Columna**               | **Descripción** |\n",
    "|---------------------------|----------------|\n",
    "| `Applicant_ID`            | Identificador único de cada solicitante. |\n",
    "| `Applicant_Gender`        | Género del solicitante (`M` para masculino, `F` para femenino). |\n",
    "| `Owned_Car`              | Indica si el solicitante posee un coche (`1` para sí, `0` para no). |\n",
    "| `Owned_Realty`           | Indica si el solicitante posee una propiedad inmobiliaria (`1` para sí, `0` para no). |\n",
    "| `Total_Children`         | Número total de hijos del solicitante. |\n",
    "| `Total_Income`           | Ingreso total anual del solicitante. |\n",
    "| `Income_Type`            | Tipo de fuente de ingresos del solicitante (por ejemplo, \"Working\", \"State Servant\", \"Commercial associate\"). |\n",
    "| `Education_Type`         | Nivel de educación del solicitante (por ejemplo, \"Higher education\", \"Secondary education\"). |\n",
    "| `Family_Status`          | Estado civil del solicitante (por ejemplo, \"Married\", \"Single\", \"Widow\"). |\n",
    "| `Housing_Type`           | Tipo de vivienda en la que reside el solicitante (por ejemplo, \"House / apartment\", \"Municipal apartment\"). |\n",
    "| `Owned_Mobile_Phone`     | Indica si el solicitante posee un teléfono móvil (`1` para sí, `0` para no). |\n",
    "| `Owned_Work_Phone`       | Indica si el solicitante posee un teléfono de trabajo (`1` para sí, `0` para no). |\n",
    "| `Owned_Phone`            | Indica si el solicitante posee otro teléfono adicional (`1` para sí, `0` para no). |\n",
    "| `Owned_Email`            | Indica si el solicitante posee un correo electrónico (`1` para sí, `0` para no). |\n",
    "| `Job_Title`              | Cargo o título profesional del solicitante (por ejemplo, \"Accountants\", \"Laborers\", \"Managers\"). |\n",
    "| `Total_Family_Members`   | Número total de miembros en la familia del solicitante. |\n",
    "| `Applicant_Age`          | Edad del solicitante en años. |\n",
    "| `Years_of_Working`       | Años de experiencia laboral del solicitante. |\n",
    "| `Total_Bad_Debt`         | Cantidad total de deudas incobrables del solicitante. |\n",
    "| `Total_Good_Debt`        | Cantidad total de deudas bien gestionadas del solicitante. |\n",
    "| `Status`                 | Estado del solicitante (`1` para aprobado, `0` para rechazado). |"
   ]
  },
  {
   "cell_type": "markdown",
   "metadata": {},
   "source": [
    "# 2. División en train y test"
   ]
  },
  {
   "cell_type": "code",
   "execution_count": 2,
   "metadata": {},
   "outputs": [],
   "source": [
    "df = pd.read_csv(\"../data/Application_Data.csv\")"
   ]
  },
  {
   "cell_type": "code",
   "execution_count": 3,
   "metadata": {},
   "outputs": [],
   "source": [
    "target = \"Status\""
   ]
  },
  {
   "cell_type": "code",
   "execution_count": 4,
   "metadata": {},
   "outputs": [],
   "source": [
    "X_train, X_test, y_train, y_test = train_test_split(df.drop(target, axis=1), \n",
    "                                                    df[target],\n",
    "                                                    test_size=0.2,\n",
    "                                                    random_state=42,\n",
    "                                                    stratify=df[target])"
   ]
  },
  {
   "cell_type": "code",
   "execution_count": 5,
   "metadata": {},
   "outputs": [],
   "source": [
    "# Combinar X_train e y_train\n",
    "train_df = X_train.copy()\n",
    "train_df[target] = y_train\n",
    "\n",
    "# Combinar X_test e y_test\n",
    "test_df = X_test.copy()\n",
    "test_df[target] = y_test\n",
    "\n",
    "# Exportar a CSV\n",
    "train_df.to_csv(\"../data/Application_Data_train2.csv\", index=False)\n",
    "test_df.to_csv(\"../data/Application_Data_test2.csv\", index=False)"
   ]
  },
  {
   "cell_type": "code",
   "execution_count": 6,
   "metadata": {},
   "outputs": [
    {
     "name": "stdout",
     "output_type": "stream",
     "text": [
      "(20102, 20)\n",
      "(20102,)\n",
      "(5026, 20)\n",
      "(5026,)\n"
     ]
    }
   ],
   "source": [
    "print(X_train.shape)\n",
    "print(y_train.shape)\n",
    "print(X_test.shape)\n",
    "print(y_test.shape)"
   ]
  },
  {
   "cell_type": "markdown",
   "metadata": {},
   "source": [
    "### Pipeline"
   ]
  },
  {
   "cell_type": "code",
   "execution_count": 7,
   "metadata": {},
   "outputs": [],
   "source": [
    "# ======================= FUNCIONES ========================\n",
    "def load_data(path: str) -> pd.DataFrame:\n",
    "    df = pd.read_csv(path)\n",
    "    df.columns = df.columns.str.strip()\n",
    "    return df\n",
    "\n",
    "# ======================= CARGA DE DATOS ========================\n",
    "train_path = \"../data/Application_Data_train2.csv\"\n",
    "test_path = \"../data/Application_Data_test2.csv\"\n",
    "target = \"Status\"\n",
    "\n",
    "train = load_data(train_path)\n",
    "test = load_data(test_path)\n",
    "\n",
    "X_train = train.drop(columns=target)\n",
    "y_train = train[target]\n",
    "\n",
    "# ======================= DEFINIR COLUMNAS ========================\n",
    "num_features = [\n",
    "    \"Applicant_Age\", \"Years_of_Working\", \"Total_Bad_Debt\",\n",
    "    \"Total_Good_Debt\", \"Total_Children\", \"Total_Family_Members\"\n",
    "]\n",
    "\n",
    "cat_features = [\n",
    "    \"Applicant_Gender\", \"Income_Type\", \"Education_Type\",\n",
    "    \"Family_Status\", \"Housing_Type\", \"Job_Title\"\n",
    "]\n",
    "\n",
    "columns_to_exclude = [\"Applicant_ID\", \"Owned_Mobile_Phone\"]\n",
    "\n",
    "# ======================= PIPELINES ========================\n",
    "num_pipeline = Pipeline([\n",
    "    (\"imputer\", SimpleImputer(strategy=\"mean\")),\n",
    "    (\"scaler\", StandardScaler())\n",
    "])\n",
    "\n",
    "cat_pipeline = Pipeline([\n",
    "    (\"imputer\", SimpleImputer(strategy=\"most_frequent\")),\n",
    "    (\"encoder\", OneHotEncoder(handle_unknown=\"ignore\"))\n",
    "])\n",
    "\n",
    "preprocessing = ColumnTransformer([\n",
    "    (\"num\", num_pipeline, num_features),\n",
    "    (\"cat\", cat_pipeline, cat_features),\n",
    "    (\"drop\", \"drop\", columns_to_exclude)\n",
    "], remainder=\"passthrough\")\n",
    "\n",
    "# ======================= MODELOS CON PIPELINE ========================\n",
    "logistic_pipeline = Pipeline([\n",
    "    (\"Preprocesado\", preprocessing),\n",
    "    (\"Modelo\", LogisticRegression(solver='liblinear', random_state=42))\n",
    "])\n",
    "\n",
    "random_pipeline = Pipeline([\n",
    "    (\"Preprocesado\", preprocessing),\n",
    "    (\"Modelo\", RandomForestClassifier(class_weight=\"balanced\", random_state=42))\n",
    "])\n",
    "\n",
    "xgb_pipeline = Pipeline([\n",
    "    (\"Preprocesado\", preprocessing),\n",
    "    (\"Modelo\", XGBClassifier(use_label_encoder=False, eval_metric='logloss', random_state=42))\n",
    "])"
   ]
  },
  {
   "cell_type": "code",
   "execution_count": 8,
   "metadata": {},
   "outputs": [],
   "source": [
    "# ======================= METRICA ========================\n",
    "balanced_scorer = \"balanced_accuracy\"\n",
    "\n",
    "# ======================= GRIDSEARCHCV ========================\n",
    "reg_log_param = {\n",
    "    \"Modelo__penalty\": [\"l1\", \"l2\"],\n",
    "    \"Modelo__C\": np.logspace(0, 4, 10)\n",
    "}\n",
    "\n",
    "rand_forest_param = {\n",
    "    'Modelo__n_estimators': [100, 200],\n",
    "    'Modelo__max_depth': [4, 8, None],\n",
    "    'Modelo__max_features': [2, 3, \"sqrt\"]\n",
    "}\n",
    "\n",
    "xgb_param = {\n",
    "    'Modelo__n_estimators': [100, 200],\n",
    "    'Modelo__max_depth': [3, 5],\n",
    "    'Modelo__learning_rate': [0.1, 0.3]\n",
    "}\n",
    "\n",
    "cv = StratifiedKFold(n_splits=5, shuffle=True, random_state=42)\n",
    "\n",
    "gs_reg_log = GridSearchCV(logistic_pipeline, reg_log_param, cv=cv, scoring=balanced_scorer, verbose=1, n_jobs=-1)\n",
    "gs_rand_forest = GridSearchCV(random_pipeline, rand_forest_param, cv=cv, scoring=balanced_scorer, verbose=1, n_jobs=-1)\n",
    "gs_xgb = GridSearchCV(xgb_pipeline, xgb_param, cv=cv, scoring=balanced_scorer, verbose=1, n_jobs=-1)\n",
    "\n",
    "grids = {\n",
    "    \"LogReg\": gs_reg_log,\n",
    "    \"RandomForest\": gs_rand_forest,\n",
    "    \"XGBoost\": gs_xgb\n",
    "}"
   ]
  },
  {
   "cell_type": "code",
   "execution_count": 9,
   "metadata": {},
   "outputs": [
    {
     "name": "stdout",
     "output_type": "stream",
     "text": [
      "\n",
      "Entrenando LogReg...\n",
      "Fitting 5 folds for each of 20 candidates, totalling 100 fits\n",
      "\n",
      "Entrenando RandomForest...\n",
      "Fitting 5 folds for each of 18 candidates, totalling 90 fits\n",
      "\n",
      "Entrenando XGBoost...\n",
      "Fitting 5 folds for each of 8 candidates, totalling 40 fits\n"
     ]
    }
   ],
   "source": [
    "# ======================= ENTRENAMIENTO ========================\n",
    "for name, grid in grids.items():\n",
    "    print(f\"\\nEntrenando {name}...\")\n",
    "    grid.fit(X_train, y_train)"
   ]
  },
  {
   "cell_type": "code",
   "execution_count": 10,
   "metadata": {},
   "outputs": [
    {
     "name": "stdout",
     "output_type": "stream",
     "text": [
      "\n",
      "📊 Resultados finales:\n"
     ]
    },
    {
     "data": {
      "text/html": [
       "<div>\n",
       "<style scoped>\n",
       "    .dataframe tbody tr th:only-of-type {\n",
       "        vertical-align: middle;\n",
       "    }\n",
       "\n",
       "    .dataframe tbody tr th {\n",
       "        vertical-align: top;\n",
       "    }\n",
       "\n",
       "    .dataframe thead th {\n",
       "        text-align: right;\n",
       "    }\n",
       "</style>\n",
       "<table border=\"1\" class=\"dataframe\">\n",
       "  <thead>\n",
       "    <tr style=\"text-align: right;\">\n",
       "      <th></th>\n",
       "      <th>Model</th>\n",
       "      <th>Best Balanced Accuracy</th>\n",
       "      <th>Best Params</th>\n",
       "    </tr>\n",
       "  </thead>\n",
       "  <tbody>\n",
       "    <tr>\n",
       "      <th>2</th>\n",
       "      <td>XGBoost</td>\n",
       "      <td>0.979687</td>\n",
       "      <td>{'Modelo__learning_rate': 0.3, 'Modelo__max_de...</td>\n",
       "    </tr>\n",
       "    <tr>\n",
       "      <th>1</th>\n",
       "      <td>RandomForest</td>\n",
       "      <td>0.968651</td>\n",
       "      <td>{'Modelo__max_depth': 4, 'Modelo__max_features...</td>\n",
       "    </tr>\n",
       "    <tr>\n",
       "      <th>0</th>\n",
       "      <td>LogReg</td>\n",
       "      <td>0.928897</td>\n",
       "      <td>{'Modelo__C': 59.94842503189409, 'Modelo__pena...</td>\n",
       "    </tr>\n",
       "  </tbody>\n",
       "</table>\n",
       "</div>"
      ],
      "text/plain": [
       "          Model  Best Balanced Accuracy  \\\n",
       "2       XGBoost                0.979687   \n",
       "1  RandomForest                0.968651   \n",
       "0        LogReg                0.928897   \n",
       "\n",
       "                                         Best Params  \n",
       "2  {'Modelo__learning_rate': 0.3, 'Modelo__max_de...  \n",
       "1  {'Modelo__max_depth': 4, 'Modelo__max_features...  \n",
       "0  {'Modelo__C': 59.94842503189409, 'Modelo__pena...  "
      ]
     },
     "execution_count": 10,
     "metadata": {},
     "output_type": "execute_result"
    }
   ],
   "source": [
    "# ======================= RESULTADOS ========================\n",
    "results = [(name, model.best_score_, model.best_params_) for name, model in grids.items()]\n",
    "results_df = pd.DataFrame(results, columns=[\"Model\", \"Best Balanced Accuracy\", \"Best Params\"]).sort_values(by=\"Best Balanced Accuracy\", ascending=False)\n",
    "print(\"\\n📊 Resultados finales:\")\n",
    "results_df"
   ]
  },
  {
   "cell_type": "code",
   "execution_count": 12,
   "metadata": {},
   "outputs": [
    {
     "data": {
      "text/plain": [
       "['modelo_pipeline.joblib']"
      ]
     },
     "execution_count": 12,
     "metadata": {},
     "output_type": "execute_result"
    }
   ],
   "source": [
    "# ======================= GUARDAR MEJOR MODELO ========================\n",
    "best_model_name = results_df.iloc[0][\"Model\"]\n",
    "best_model = grids[best_model_name]\n",
    "\n",
    "with open('modelo_pipeline.pkl', 'wb') as f:\n",
    "    pickle.dump(best_model, f)\n",
    "\n",
    "joblib.dump(best_model, 'modelo_pipeline.joblib')"
   ]
  },
  {
   "cell_type": "code",
   "execution_count": 13,
   "metadata": {},
   "outputs": [
    {
     "name": "stdout",
     "output_type": "stream",
     "text": [
      "\n",
      "🔍 Evaluación del Mejor Modelo:\n",
      "Accuracy en test: 0.9994\n",
      "\n",
      "📋 Classification Report:\n",
      "              precision    recall  f1-score   support\n",
      "\n",
      "           0       0.96      0.92      0.94        24\n",
      "           1       1.00      1.00      1.00      5002\n",
      "\n",
      "    accuracy                           1.00      5026\n",
      "   macro avg       0.98      0.96      0.97      5026\n",
      "weighted avg       1.00      1.00      1.00      5026\n",
      "\n"
     ]
    }
   ],
   "source": [
    "# Predicción\n",
    "y_pred = best_model.predict(X_test)\n",
    "\n",
    "# Accuracy y classification report\n",
    "print(\"\\n🔍 Evaluación del Mejor Modelo:\")\n",
    "print(f\"Accuracy en test: {accuracy_score(y_test, y_pred):.4f}\\n\")\n",
    "print(\"📋 Classification Report:\")\n",
    "print(classification_report(y_test, y_pred))"
   ]
  },
  {
   "cell_type": "code",
   "execution_count": null,
   "metadata": {},
   "outputs": [],
   "source": []
  }
 ],
 "metadata": {
  "kernelspec": {
   "display_name": "Python 3",
   "language": "python",
   "name": "python3"
  },
  "language_info": {
   "codemirror_mode": {
    "name": "ipython",
    "version": 3
   },
   "file_extension": ".py",
   "mimetype": "text/x-python",
   "name": "python",
   "nbconvert_exporter": "python",
   "pygments_lexer": "ipython3",
   "version": "3.12.7"
  }
 },
 "nbformat": 4,
 "nbformat_minor": 2
}
